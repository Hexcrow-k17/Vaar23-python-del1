{
 "cells": [
  {
   "attachments": {},
   "cell_type": "markdown",
   "metadata": {
    "deletable": false,
    "editable": false,
    "run_control": {
     "frozen": true
    }
   },
   "source": [
    "\n",
    "# Geometri\n",
    "\n",
    "**Læringsmål:**\n",
    "\n",
    "* Forstå at kode må være feilfri for å kjøre, og rette enkle syntaksfeil\n",
    "\n",
    "* Debugging\n",
    "\n",
    "I denne oppgaven skal vi rette feil i koden og endre utskriftsformat.\n",
    "\n",
    "Norsklæreren din kunne utmerket godt lest en stil og forstått den på tross av noen småfeil, og til og med gitt god karakter hvis innholdet forøvrig var bra. Datamaskinen er ikke like tilgivende: I et Python-program må alt være pinlig nøyaktig, en enkelt skrivefeil kan være nok til at programmet slett ikke kjører."
   ]
  },
  {
   "attachments": {},
   "cell_type": "markdown",
   "metadata": {
    "deletable": false,
    "editable": false,
    "run_control": {
     "frozen": true
    }
   },
   "source": [
    "## a)"
   ]
  },
  {
   "attachments": {},
   "cell_type": "markdown",
   "metadata": {
    "deletable": false,
    "editable": false,
    "run_control": {
     "frozen": true
    }
   },
   "source": [
    "Rett alle syntaksfeilene i koden under slik at koden kjører uten problemer. Hver av syntaksfeilene her kan rettes ved å fjerne, legge til eller endre ett enkelt tegn, dvs. det er ikke nødvendig å gjøre større endringer i koden. Ved å kjøre programmet (velg ”Run” i menyen) og se på feilmeldinger vil du få hint om hvor hver enkelt syntaksfeil befinner seg."
   ]
  },
  {
   "cell_type": "code",
   "execution_count": 11,
   "metadata": {
    "ExecuteTime": {
     "end_time": "2019-07-01T11:56:48.846273Z",
     "start_time": "2019-07-01T11:56:48.833816Z"
    }
   },
   "outputs": [
    {
     "name": "stdout",
     "output_type": "stream",
     "text": [
      "Vi har en sirkel med radius 5\n",
      "Omkretsen er 31.40\n",
      "Arealet er 78.5\n",
      "Sylinder med høyde 8:Volumet er 628.0\n"
     ]
    }
   ],
   "source": [
    "r = 5\n",
    "print(\"Vi har en sirkel med radius\",  str(r))\n",
    "omkrets = 2 * 3.14 * r\n",
    "formatted_omkrets = \"{:.2f}\".format(omkrets)\n",
    "print(\"Omkretsen er\", formatted_omkrets)\n",
    "areal = 3.14 * r ** 2\n",
    "print(\"Arealet er\", areal)\n",
    "høyde = 8\n",
    "volum = areal * høyde\n",
    "print(\"Sylinder med høyde\", str(høyde) + \":Volumet er\",volum)"
   ]
  },
  {
   "attachments": {},
   "cell_type": "markdown",
   "metadata": {
    "deletable": false,
    "editable": false,
    "run_control": {
     "frozen": true
    }
   },
   "source": [
    "Når koden fungerer bør du få følgende output:\n",
    "\n",
    "  \n",
    "```python\n",
    "Vi har en sirkel med radius 5\n",
    "Omkretsen er 31.400000000000002\n",
    "Arealet er 78.5\n",
    "Sylinder med høyde 8 : Volumet er 628.0\n",
    "    ```"
   ]
  },
  {
   "attachments": {},
   "cell_type": "markdown",
   "metadata": {
    "ExecuteTime": {
     "end_time": "2019-07-01T11:57:35.984163Z",
     "start_time": "2019-07-01T11:57:35.979863Z"
    },
    "deletable": false,
    "editable": false,
    "run_control": {
     "frozen": true
    }
   },
   "source": [
    "#### Hint"
   ]
  },
  {
   "attachments": {},
   "cell_type": "markdown",
   "metadata": {
    "deletable": false,
    "editable": false,
    "run_control": {
     "frozen": true
    }
   },
   "source": [
    "Tenk på parenteser, fnutter, variabelnavn og (+/,) i kombinasjon av tekst og variabelnavn."
   ]
  },
  {
   "attachments": {},
   "cell_type": "markdown",
   "metadata": {
    "deletable": false,
    "editable": false,
    "run_control": {
     "frozen": true
    }
   },
   "source": [
    "#### Formatering av antall desimaler"
   ]
  },
  {
   "attachments": {},
   "cell_type": "markdown",
   "metadata": {
    "deletable": false,
    "editable": false,
    "run_control": {
     "frozen": true
    }
   },
   "source": [
    "At omkretsen får en liten hale med ...002 skyldes at flyttall ikke kan lagres helt nøyaktig i dataens minne. Derfor kan det være ønskelig med kun to desimaler. Det er en innebygd funksjon i Python som tar seg av formatering og den ser slik ut: `format(tall, formatering)`. `tall` er her tallet som skal konverteres, dvs. omkretsen i eksempelet over, mens formatering går ut på hvordan man ønsker å formere tallet. Et eksempel er format`(2/3, ‘.3f’)` som gir `0.667`. 3-tallet indikerer at det ønskes 3 desimaler."
   ]
  },
  {
   "attachments": {},
   "cell_type": "markdown",
   "metadata": {
    "deletable": false,
    "editable": false,
    "run_control": {
     "frozen": true
    }
   },
   "source": [
    "## b"
   ]
  },
  {
   "attachments": {},
   "cell_type": "markdown",
   "metadata": {
    "deletable": false,
    "editable": false,
    "run_control": {
     "frozen": true
    }
   },
   "source": [
    "Endre koden fra **a)** til å skrive ut omkretsen med kun 2 desimaler. Dvs. at linje to over skal bli endret til Omkretsen er 31.40.\n",
    "\n",
    "Kjøring av oppdatert kode:\n",
    "\n",
    "  \n",
    "```python\n",
    "Vi har en sirkel med radius 5\n",
    "Omkretsen er 31.40\n",
    "Arealet er 78.5\n",
    "Sylinder med høyde 8 : Volumet er 628.0\n",
    "    ```"
   ]
  },
  {
   "attachments": {},
   "cell_type": "markdown",
   "metadata": {
    "deletable": false,
    "editable": false,
    "run_control": {
     "frozen": true
    }
   },
   "source": [
    "## c)"
   ]
  },
  {
   "attachments": {},
   "cell_type": "markdown",
   "metadata": {
    "deletable": false,
    "editable": false,
    "run_control": {
     "frozen": true
    }
   },
   "source": [
    "(vanskelig oppgave) I oppgave a får omkretsen verdien 31.400...002, hvorfor blir ikke omkretsen sin verdi lik 31.400...000?"
   ]
  },
  {
   "attachments": {},
   "cell_type": "markdown",
   "metadata": {
    "deletable": false,
    "editable": false,
    "run_control": {
     "frozen": true
    }
   },
   "source": [
    "Dobbelklikk på teksten under og skriv svaret ditt der:"
   ]
  },
  {
   "attachments": {},
   "cell_type": "markdown",
   "metadata": {},
   "source": [
    "> Skriv svaret ditt her\n",
    "Dette skyldes begrensninger i representasjonen av flyttall i datamaskinen. Flyttall i de fleste programmeringsspråk, inkludert Python, bruker en representasjon kalt \"floating-point\" (flyttall) som bruker en begrenset mengde binære sifre for å representere et desimaltall.\n",
    "\n",
    "I tilfellet med omkretsen av en sirkel, hvor vi beregner omkretsen som 2 * 3.14 * r, bruker vi en tilnærming av pi (π) med 3.14. Selv om pi er et irrasjonelt tall med uendelig mange desimaler, er det umulig å representere det nøyaktig med et endelig antall binære sifre.\n",
    "\n",
    "Siden representasjonen av flyttall har en begrenset nøyaktighet, vil det alltid være en liten avrundingsfeil i flyttallsberegninger. Dette kan føre til at vi får et resultat som ikke er nøyaktig 31.4 når vi beregner omkretsen. I stedet kan det være en verdi som 31.400...002 eller 31.400...001.\n",
    "\n",
    "For å håndtere dette, kan vi formatere resultatet til et bestemt antall desimaler når vi skriver det ut, som vi gjorde i tidligere svar ved hjelp av round() eller .format()-metoden. Dette lar oss begrense antall desimaler og få en mer ønsket representasjon av tallet, for eksempel 31.4."
   ]
  }
 ],
 "metadata": {
  "kernelspec": {
   "display_name": "Python 3 (ipykernel)",
   "language": "python",
   "name": "python3"
  },
  "language_info": {
   "codemirror_mode": {
    "name": "ipython",
    "version": 3
   },
   "file_extension": ".py",
   "mimetype": "text/x-python",
   "name": "python",
   "nbconvert_exporter": "python",
   "pygments_lexer": "ipython3",
   "version": "3.11.0"
  },
  "toc": {
   "base_numbering": 1,
   "nav_menu": {},
   "number_sections": false,
   "sideBar": true,
   "skip_h1_title": false,
   "title_cell": "Table of Contents",
   "title_sidebar": "Contents",
   "toc_cell": false,
   "toc_position": {},
   "toc_section_display": true,
   "toc_window_display": false
  }
 },
 "nbformat": 4,
 "nbformat_minor": 2
}
