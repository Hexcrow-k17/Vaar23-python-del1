{
 "cells": [
  {
   "attachments": {},
   "cell_type": "markdown",
   "metadata": {
    "deletable": false,
    "editable": false,
    "run_control": {
     "frozen": true
    }
   },
   "source": [
    "# A wild hidden quest 1-1 appeared!\n",
    "## Baked Python\n",
    "\n",
    "**Læringsmål:**\n",
    "\n",
    "* Printe ut tekst til skjerm på en fin måte\n",
    "\n",
    "* Kalkulasjoner i Python\n",
    "\n",
    "I denne oppgaven skal du beregne mengden ingredienser som trengs for å lage cookies og printe resultatet på et fint format. **Klarer du oppgaven ryktes det Heimdallsquest XP**\n",
    "\n",
    "Du skal lage cookies og har en oppskrift som gir 48 cookies. Den oppskriften krever følgende ingredienser:\n",
    "\n",
    "* 400 g sukker \n",
    "* 320 g smør\n",
    "* 500 g sjokolade\n",
    "* 2 egg \n",
    "* 460 g hvetemel "
   ]
  },
  {
   "attachments": {},
   "cell_type": "markdown",
   "metadata": {
    "deletable": false,
    "editable": false,
    "run_control": {
     "frozen": true
    }
   },
   "source": [
    "## a)"
   ]
  },
  {
   "attachments": {},
   "cell_type": "markdown",
   "metadata": {
    "deletable": false,
    "editable": false,
    "run_control": {
     "frozen": true
    }
   },
   "source": [
    "Spør brukeren om hvor mange cookies han eller hun ønsker å bake og skriv ut hvor mange ingredienser som trengs for å lage så mange cookies.\n",
    "\n",
    "Eksempel på kjøring:\n",
    "\n",
    "  \n",
    "```python\n",
    "Hvor mange cookies ønsker du å bake? 24\n",
    "Antall cookies: 24 \n",
    "sukker(g): 200.0\n",
    "smør(g): 160.0\n",
    "sjokolade(g): 250.0\n",
    "egg: 1.0\n",
    "hvetemel(g): 230.0\n",
    "```\n",
    "    \n",
    "***Skriv koden din i blokka under.***"
   ]
  },
  {
   "cell_type": "code",
   "execution_count": 1,
   "metadata": {},
   "outputs": [
    {
     "name": "stdout",
     "output_type": "stream",
     "text": [
      "Antall cookies: 100\n",
      "sukker(g): 833.0\n",
      "smør(g): 667.0\n",
      "sjokolade(g): 1042.0\n",
      "egg: 4.0\n",
      "hvetemel(g): 958.0\n"
     ]
    }
   ],
   "source": [
    "def beregn_ingredienser(antall_cookies):\n",
    "    sukker_per_cookie = 8.33\n",
    "    smør_per_cookie = 6.67\n",
    "    sjokolade_per_cookie = 10.42\n",
    "    egg_per_cookie = 0.04\n",
    "    hvetemel_per_cookie = 9.58\n",
    "\n",
    "    sukker_totalt = antall_cookies * sukker_per_cookie\n",
    "    smør_totalt = antall_cookies * smør_per_cookie\n",
    "    sjokolade_totalt = antall_cookies * sjokolade_per_cookie\n",
    "    egg_totalt = antall_cookies * egg_per_cookie\n",
    "    hvetemel_totalt = antall_cookies * hvetemel_per_cookie\n",
    "\n",
    "    return sukker_totalt, smør_totalt, sjokolade_totalt, egg_totalt, hvetemel_totalt\n",
    "\n",
    "antall_cookies = int(input(\"Hvor mange cookies ønsker du å bake? \"))\n",
    "sukker, smør, sjokolade, egg, hvetemel = beregn_ingredienser(antall_cookies)\n",
    "\n",
    "print(\"Antall cookies:\", antall_cookies)\n",
    "print(\"sukker(g):\", sukker)\n",
    "print(\"smør(g):\", smør)\n",
    "print(\"sjokolade(g):\", sjokolade)\n",
    "print(\"egg:\", egg)\n",
    "print(\"hvetemel(g):\", hvetemel)\n"
   ]
  },
  {
   "attachments": {},
   "cell_type": "markdown",
   "metadata": {
    "deletable": false,
    "editable": false,
    "heading_collapsed": true,
    "run_control": {
     "frozen": true
    }
   },
   "source": [
    "#### Tips til oppgave a: Escape Character"
   ]
  },
  {
   "attachments": {},
   "cell_type": "markdown",
   "metadata": {
    "deletable": false,
    "editable": false,
    "hidden": true,
    "run_control": {
     "frozen": true
    }
   },
   "source": [
    "`\\n` er nyttig å bruke her for å få en ny linje! Eks. `print(“hei\\npå\\ndeg”)` gir\n",
    "\n",
    "**Utskrift**\n",
    "  \n",
    "```\n",
    "hei  \n",
    "på  \n",
    "deg\n",
    "```"
   ]
  },
  {
   "attachments": {},
   "cell_type": "markdown",
   "metadata": {
    "deletable": false,
    "editable": false,
    "run_control": {
     "frozen": true
    }
   },
   "source": [
    "## b)"
   ]
  },
  {
   "attachments": {},
   "cell_type": "markdown",
   "metadata": {
    "deletable": false,
    "editable": false,
    "run_control": {
     "frozen": true
    }
   },
   "source": [
    "Be brukeren om hvor mange cookies han eller hun ønsker å lage tre ganger og skriv ut ingrediensene på en fin og elegant måte. Du trenger kun å skrive ut antall cookies, og hvor mye sjokolade og sukker som trengs i gram.\n",
    "\n",
    "Eksempel på kjøring:\n",
    "\n",
    "  \n",
    "```python\n",
    "Hvor mange cookies vil du lage? 24\n",
    "og hvor mange cookies vil du lage nå? 48\n",
    "og hvor mange cookies vil du lage til slutt? 72\n",
    "Antall cookies:        sukker(g)    sjokolade(g)\n",
    "24                         200.0           250.0\n",
    "48                         400.0           500.0\n",
    "72                         600.0           750.0\n",
    "```\n",
    "\n",
    "`rjust()` og `ljust()` er nyttige funksjoner her, men for å bruke dem må man først konvertere antall cookies til en streng vha. `str()`. Andre ting som kan være nyttig er `\\t` som lager et innrykk i teksten.\n",
    "\n",
    "***Skriv koden din i blokka under.***"
   ]
  },
  {
   "cell_type": "code",
   "execution_count": null,
   "metadata": {},
   "outputs": [],
   "source": []
  },
  {
   "attachments": {},
   "cell_type": "markdown",
   "metadata": {
    "deletable": false,
    "editable": false,
    "heading_collapsed": true,
    "run_control": {
     "frozen": true
    }
   },
   "source": [
    "#### ljust() og rjust()"
   ]
  },
  {
   "attachments": {},
   "cell_type": "markdown",
   "metadata": {
    "deletable": false,
    "editable": false,
    "hidden": true,
    "run_control": {
     "frozen": true
    }
   },
   "source": [
    "`streng.ljust(width)` returnerer strengen \"left justified\" i en streng av lengde `width`. `streng.rjust(width)` gjør det sammen bare at strengen blir \"right justified\". For eksempel blir `print('hei'.rjust(15))` til:\n",
    "\n",
    "  \n",
    "```python\n",
    "           hei      #teksten printes altså ut etter 12 white spaces, ettersom strengen har lengde 3\n",
    "```\n",
    "    \n",
    "Du kan lese mer om `rjust()` og `ljust()` [her](https://docs.python.org/2/library/stdtypes.html?highlight=rjust#str.rjust). "
   ]
  }
 ],
 "metadata": {
  "kernelspec": {
   "display_name": "Python 3 (ipykernel)",
   "language": "python",
   "name": "python3"
  },
  "language_info": {
   "codemirror_mode": {
    "name": "ipython",
    "version": 3
   },
   "file_extension": ".py",
   "mimetype": "text/x-python",
   "name": "python",
   "nbconvert_exporter": "python",
   "pygments_lexer": "ipython3",
   "version": "3.11.0"
  },
  "toc": {
   "base_numbering": 1,
   "nav_menu": {},
   "number_sections": false,
   "sideBar": true,
   "skip_h1_title": false,
   "title_cell": "Table of Contents",
   "title_sidebar": "Contents",
   "toc_cell": false,
   "toc_position": {},
   "toc_section_display": true,
   "toc_window_display": false
  }
 },
 "nbformat": 4,
 "nbformat_minor": 2
}
