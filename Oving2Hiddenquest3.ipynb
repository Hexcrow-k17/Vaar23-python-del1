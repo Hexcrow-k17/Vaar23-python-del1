{
 "cells": [
  {
   "attachments": {},
   "cell_type": "markdown",
   "metadata": {},
   "source": [
    "# A wild hidden quest 2-3 appeared!\n",
    "\n",
    "**Klarer du oppgaven ryktes det Heimdallsquest XP**"
   ]
  },
  {
   "attachments": {},
   "cell_type": "markdown",
   "metadata": {},
   "source": [
    "# Billettpriser og rabatter\n",
    "\n",
    "**Læringsmål:**\n",
    "\n",
    "* Betingelser\n",
    "\n",
    "I denne oppgaven skal du bruke betingelser (if-elif-else) til å bestemme billettprisen til en bruker basert på input fra brukeren. \n",
    "\n",
    "Transportselskapet «TravelevatoR» tilbyr reiser fra Trondheim til Pythonville. Ved bestilling minst 14 dager før man skal reise, kan man få minipris 199. Normal billett koster 440. "
   ]
  },
  {
   "attachments": {},
   "cell_type": "markdown",
   "metadata": {
    "deletable": false,
    "editable": false,
    "run_control": {
     "frozen": true
    }
   },
   "source": [
    "### a)"
   ]
  },
  {
   "attachments": {},
   "cell_type": "markdown",
   "metadata": {
    "deletable": false,
    "editable": false,
    "run_control": {
     "frozen": true
    }
   },
   "source": [
    "Skriv et program med to mulige oppførsler som vist under:\n",
    "\n",
    "  \n",
    "```python\n",
    "Dager til du skal reise? 15  \n",
    "Du kan få minipris: 199,-  \n",
    ">>>  \n",
    "Dager til du skal reise? 8  \n",
    "For sent for minipris; fullpris 440,-  \n",
    "```\n",
    "***Skriv koden din under***"
   ]
  },
  {
   "cell_type": "code",
   "execution_count": null,
   "metadata": {
    "ExecuteTime": {
     "end_time": "2019-07-02T08:22:50.607851Z",
     "start_time": "2019-07-02T08:22:50.600802Z"
    }
   },
   "outputs": [],
   "source": []
  },
  {
   "attachments": {},
   "cell_type": "markdown",
   "metadata": {
    "deletable": false,
    "editable": false,
    "run_control": {
     "frozen": true
    }
   },
   "source": [
    "### b)"
   ]
  },
  {
   "attachments": {},
   "cell_type": "markdown",
   "metadata": {
    "deletable": false,
    "editable": false,
    "run_control": {
     "frozen": true
    }
   },
   "source": [
    "Det hender av og til at kunder ikke ønsker minipris, men heller vil ha fullprisbillett. Dette fordi minipris ikke kan refunderes / endres. Utvid derfor programmet så kunder spørres om de ønsker minipris – men kun der det er relevant. To eksempel på kjøring etter utvidelsen:\n",
    "\n",
    "  \n",
    "```python\n",
    "Dager til du skal reise? 17\n",
    "Minipris 199,- kan ikke refunderes/endres\n",
    "Ønskes dette (J/N)? J\n",
    "Takk for pengene, god reise!\n",
    "```\n",
    "  \n",
    "```python\n",
    "Dager til du skal reise? 17\n",
    "Minipris 199,- kan ikke refunderes/endres\n",
    "Ønskes dette (J/N)? N\n",
    "Da tilbyr vi fullpris: 440,-\n",
    "```"
   ]
  },
  {
   "attachments": {},
   "cell_type": "markdown",
   "metadata": {
    "deletable": false,
    "editable": false,
    "run_control": {
     "frozen": true
    }
   },
   "source": [
    "### c)"
   ]
  },
  {
   "attachments": {},
   "cell_type": "markdown",
   "metadata": {
    "deletable": false,
    "editable": false,
    "run_control": {
     "frozen": true
    }
   },
   "source": [
    "Det blir besluttet at barn under 16 gis 50% rabatt. Senior (60+), militær i uniform, og student gis 25% rabatt. Om man f.eks. både er 60+ og militær / student, får man likevel bare 25% rabatt. Alle disse rabattene gjelder kun i forhold til fullpris, for minipris gis ingen rabatter. Endre programmet så det spør kunden om alder, evt. også om student / militær, og regner ut riktig pris.\n",
    "\n",
    "**NB:** De nye spørsmålene skal ***kun*** stilles når de er relevante, da det er et mål at kunden skal måtte svare på så få spørsmål som mulig.\n",
    "\n",
    "Eksempel på kjøring av koden:\n",
    "\n",
    "  \n",
    "```python\n",
    "Dager til du skal reise? 17\n",
    "Minipris 199,- kan ikke refunderes/endres\n",
    "Ønskes dette (J/N)? N\n",
    "Skriv inn din alder: 15\n",
    "Prisen på biletten blir: 220,-\n",
    "```"
   ]
  },
  {
   "attachments": {},
   "cell_type": "markdown",
   "metadata": {
    "deletable": false,
    "editable": false,
    "run_control": {
     "frozen": true
    }
   },
   "source": [
    "### d) Valgfri oppgave"
   ]
  },
  {
   "attachments": {},
   "cell_type": "markdown",
   "metadata": {
    "deletable": false,
    "editable": false,
    "run_control": {
     "frozen": true
    }
   },
   "source": [
    "Du får godkjent oppgaven om du bare har klart a, b og delvis c, men prøv gjerne på denne litt vanskeligere d også.\n",
    "\n",
    "Etter lobbyvirksomhet fra studentorganisasjoner endres reglene på følgende måte: Studenter får også litt rabatt på miniprisbilletter (10%),  samt at personer som både er studenter og militære  / 60+, eller studenter og barn, får to rabatter, og dermed bare betaler 0,75 * 0,75 eller 0.75 * 0.5 av fullpris. Merk at personer som er 60+ og militære, men ikke studenter, eller barn og militære, men ikke studenter, ikke får noen slik multiplisert rabatt, de må fortsatt nøye seg med den ene rabatten de hadde før, og de vanlige 199 for minipris. Endre programmet så det fungerer korrekt i forhold til de nye reglene."
   ]
  }
 ],
 "metadata": {
  "kernelspec": {
   "display_name": "Python 3 (ipykernel)",
   "language": "python",
   "name": "python3"
  },
  "language_info": {
   "codemirror_mode": {
    "name": "ipython",
    "version": 3
   },
   "file_extension": ".py",
   "mimetype": "text/x-python",
   "name": "python",
   "nbconvert_exporter": "python",
   "pygments_lexer": "ipython3",
   "version": "3.7.3"
  },
  "toc": {
   "base_numbering": 1,
   "nav_menu": {},
   "number_sections": false,
   "sideBar": true,
   "skip_h1_title": false,
   "title_cell": "Table of Contents",
   "title_sidebar": "Contents",
   "toc_cell": false,
   "toc_position": {},
   "toc_section_display": true,
   "toc_window_display": false
  }
 },
 "nbformat": 4,
 "nbformat_minor": 2
}
