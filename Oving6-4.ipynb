{
 "cells": [
  {
   "attachments": {},
   "cell_type": "markdown",
   "metadata": {
    "deletable": false,
    "editable": false,
    "run_control": {
     "frozen": true
    }
   },
   "source": [
    "# Tekstbehandling\n",
    "\n",
    "**Læringsmål:**\n",
    "\n",
    "* Strenger\n",
    "* Funksjoner\n",
    "* Løkker\n",
    "* Kodeforståelse"
   ]
  },
  {
   "attachments": {},
   "cell_type": "markdown",
   "metadata": {
    "deletable": false,
    "editable": false,
    "heading_collapsed": true,
    "run_control": {
     "frozen": true
    }
   },
   "source": [
    "## Generelt om testing, søking og manipulering av strenger"
   ]
  },
  {
   "attachments": {},
   "cell_type": "markdown",
   "metadata": {
    "deletable": false,
    "editable": false,
    "hidden": true,
    "run_control": {
     "frozen": true
    }
   },
   "source": [
    "**Testing av strenger:**\n",
    "\n",
    "Python har to nyttige operatoerer `in` og `not in`. Disse kan brukes til å sjekke om en streng er inneholdt i en annen.\n",
    "\n",
    ">La streng 1 og streng 2 være tilordnet to forskjellige strenger.\n",
    "Det logiske uttrykket:\n",
    "```python\n",
    "streng1 in streng2\n",
    "```\n",
    "vil returnere True om streng1 er inneholdt i streng2, f.eks vil uttrykket\n",
    "```python\n",
    "\"Ber\" in \"Bob Bernt\"\n",
    "```\n",
    "returnere True, mens uttrykket\n",
    "```python\n",
    "\"obo\" in \"Bob Bernt\"\n",
    "```\n",
    "returnerer False.\n",
    "Tilsvarende vil det logiske uttrykket\n",
    "```python\n",
    "streng1 not in streng2\n",
    "```\n",
    "returnere True om streng1 IKKE er inneholdt i streng2, altså det motsatte av det streng1 in streng2 ville returnert.\n",
    "\n",
    "Strenger i Python har flere metoder som kan brukes til å teste en streng for bestemte karaktertrekk. Tabellen under viser enkelte av disse:\n",
    "\n",
    "![img](innebygde_strengfunksjoner.png)\n",
    "\n",
    "Generelt format for bruk av disse metodene er: streng.metode(argument)\n",
    "\n",
    "F.eks. vil `streng.isupper()` returnere *True* om alle bokstavene i streng er blokkbokstaver og lengden til strengen er større eller lik 1.\n",
    "\n",
    "Metodene i tabellen over er boolske metoder som vil returnere enten *True* eller *False*.\n",
    "\n",
    "**Modifisering av strenger:**\n",
    "\n",
    "Strengemodifiserings-metoder (se tabellen nedenfor) er metoder som returnerer en modifisert kopi av strengen metoden kalles på. På denne måten kan man \"simulere\" at strenger endres, enda de ikke egentlig vil dette (strenger er jo ikke-muterbare).\n",
    "\n",
    "![img](flere-innebygde-strengfunksjoner.png)\n",
    "\n",
    "F.eks. vil \n",
    ">```python\n",
    "\" Cake is good \".strip()\n",
    "```\n",
    "\n",
    "returnere strengen \"Cake is good\".\n",
    "\n",
    "**Søking i strenger og erstatting av karakterer:**\n",
    "\n",
    "Det finnes også flere metoder som kan søke og finne substrenger i en streng, om de skulle være til stede. I tillegg er det mulig å bruke metoden `streng.replace(old,new)` til å få en kopi av streng der alle instanser av *old* er erstattet med instanser av *new*.\n",
    "\n",
    "**Eksempel på bruk av replace(old,new):**"
   ]
  },
  {
   "cell_type": "code",
   "execution_count": null,
   "metadata": {
    "ExecuteTime": {
     "end_time": "2019-07-03T15:07:18.895928Z",
     "start_time": "2019-07-03T15:07:18.885645Z"
    },
    "hidden": true
   },
   "outputs": [],
   "source": [
    "s = \"I like cake, and I also like ice cream.\"\n",
    "s = s.replace(\"like\",\"love\")        #Argumentene old og new må være strenger. Husk at s.replace(old,new) IKKE endrer på strengen s, men returnerer en modifisert kopi av denne. Det er dermed viktig å tilordne en variabel til den modifiserte strengen om den skal brukes senere.\n",
    "print(s)"
   ]
  },
  {
   "attachments": {},
   "cell_type": "markdown",
   "metadata": {
    "deletable": false,
    "editable": false,
    "heading_collapsed": true,
    "run_control": {
     "frozen": true
    }
   },
   "source": [
    "## Kort om repetisjons-operatoren og splitting av strenger"
   ]
  },
  {
   "attachments": {},
   "cell_type": "markdown",
   "metadata": {
    "deletable": false,
    "editable": false,
    "hidden": true,
    "run_control": {
     "frozen": true
    }
   },
   "source": [
    "**Repetisjons-operatoren:**\n",
    "\n",
    "Som du alt har lært, kan man duplisere en liste vha. repetisjons-operatoren *. Det samme gjelder for strenger. Det generelle formatet er:\n",
    "\n",
    "*streng * n*\n",
    "\n",
    "Dette vil gi en streng bestående av n repeterte kopier av strengen *streng*.\n",
    "\n",
    "**Eksempler på bruk av split: (kjør koden)**"
   ]
  },
  {
   "cell_type": "code",
   "execution_count": null,
   "metadata": {
    "hidden": true
   },
   "outputs": [],
   "source": [
    "#Eks 1\n",
    "s = \"bla\"*5\n",
    "print(s)\n",
    "  \n",
    "#Eks 2\n",
    "for i in range(1,5):\n",
    "    print('X'*i)"
   ]
  },
  {
   "attachments": {},
   "cell_type": "markdown",
   "metadata": {
    "deletable": false,
    "editable": false,
    "hidden": true,
    "run_control": {
     "frozen": true
    }
   },
   "source": [
    "**Splitting av en streng:**\n",
    "\n",
    "Python har en metode kalt *split* som returnerer en liste med ordene i strengen metoden blir kalt på. Dvs. at `s.split()` returnerer en liste bestående av ordene i strengen s.\n",
    "\n",
    "*split*-metoden kan ta inn en streng som argument. Om *split*-metoden ikke får inn noe argument vil den bruke mellomrom som skilletegn. Om den derimot får inn et argument, f.eks. '-', vil den splitte på disse, og ikke mellomrom."
   ]
  },
  {
   "cell_type": "code",
   "execution_count": 1,
   "metadata": {
    "ExecuteTime": {
     "end_time": "2019-07-03T15:16:25.720013Z",
     "start_time": "2019-07-03T15:16:25.712102Z"
    },
    "hidden": true
   },
   "outputs": [
    {
     "name": "stdout",
     "output_type": "stream",
     "text": [
      "['Lilac', 'and', 'gooseberries']\n",
      "['ISBN 978', '0', '316', '02918', '6']\n",
      "['N', 'm', 'h', 'k', \"makiaki'aial\", 'namor']\n",
      "['', '6543', '6542', '6', '624', '215986529762', '63']\n"
     ]
    }
   ],
   "source": [
    "#Eks 1\n",
    "s = \"Lilac and gooseberries\"\n",
    "liste = s.split()           #Vil bruker standard-skilletegnet som er mellomrom\n",
    "print(liste)\n",
    "  \n",
    "#Eks 2\n",
    "s = \"ISBN 978-0-316-02918-6\"\n",
    "\n",
    "liste = s.split('-')        #Vil bruke '-' som skilletegn\n",
    "print(liste)\n",
    "  \n",
    "#Eks 3\n",
    "s = \"Numuhukumakiaki'aialunamor\"\n",
    "liste = s.split('u')        #Vil bruke 'u' som skilletegn\n",
    "print(liste)\n",
    "\n",
    "#Eks 4\n",
    "s = \"98765439876542987698762498721598652976298763\"\n",
    "liste = s.split('987')      #Vil bruke '987' som skilletegn\n",
    "print(liste)"
   ]
  },
  {
   "attachments": {},
   "cell_type": "markdown",
   "metadata": {
    "deletable": false,
    "editable": false,
    "run_control": {
     "frozen": true
    }
   },
   "source": [
    "## a)"
   ]
  },
  {
   "attachments": {},
   "cell_type": "markdown",
   "metadata": {
    "deletable": false,
    "editable": false,
    "run_control": {
     "frozen": true
    }
   },
   "source": [
    "Skriv en funksjon som tar inn en streng som argument, og endrer bokstavene i den til blokkbokstaver. I tillegg skal funksjonen fjerne eventuell whitespace på start og slutt av strengen. Den resulterende strengen skal så returneres.\n",
    "\n",
    "**Eksempel på kjøring:**\n",
    "```python\n",
    "streng = \" \\n  Far over the Misty Mountains \\t \"\n",
    "output -> FAR OVER THE MISTY MOUNTAINS\n",
    "```\n",
    "\n",
    "***Skriv koden din i kodeblokken under:***"
   ]
  },
  {
   "cell_type": "code",
   "execution_count": null,
   "metadata": {},
   "outputs": [],
   "source": []
  },
  {
   "attachments": {},
   "cell_type": "markdown",
   "metadata": {},
   "source": [
    "## b)"
   ]
  },
  {
   "attachments": {},
   "cell_type": "markdown",
   "metadata": {
    "deletable": false,
    "editable": false,
    "run_control": {
     "frozen": true
    }
   },
   "source": [
    "Lag en funksjon som tar inn en streng og en karakter som argumenter. Funksjonen skal splitte strengen med hensyn på denne karakteren, og returnere listen man får av denne splittingen.\n",
    "\n",
    ">```python\n",
    "streng = \"Hakuna Matata\", karakter = 'a'\n",
    "output -> ['H', 'kun', ' M', 't', 't', '']```\n",
    "\n",
    "***Skriv koden din i kodeblokken under***"
   ]
  },
  {
   "cell_type": "code",
   "execution_count": null,
   "metadata": {},
   "outputs": [],
   "source": []
  },
  {
   "attachments": {},
   "cell_type": "markdown",
   "metadata": {
    "deletable": false,
    "editable": false,
    "run_control": {
     "frozen": true
    }
   },
   "source": [
    "## c)"
   ]
  },
  {
   "attachments": {},
   "cell_type": "markdown",
   "metadata": {
    "deletable": false,
    "editable": false,
    "run_control": {
     "frozen": true
    }
   },
   "source": [
    "Hva vil følgende kodesnutt skrive ut til skjerm?\n",
    ">```python\n",
    "s1 = \"eat\"\n",
    "s2 = \"I want to be like a caterpillar. Eat a lot. Sleep for a while. Wake up beautiful.\"\n",
    "def func(s1, s2):\n",
    "    s = \"My bed is a magical place where I suddenly remember everything I forgot to do.\"\n",
    "    if s1 in s2.lower():\n",
    "        s = \"The more you weigh, the harder you are to kidnap. Stay safe. Eat cake.\"\n",
    "    print(s)\n",
    "    ```\n",
    "    >```\n",
    "func(s1,s2)\n",
    "```"
   ]
  },
  {
   "attachments": {},
   "cell_type": "markdown",
   "metadata": {},
   "source": [
    ">**Svar:**\n",
    "   "
   ]
  },
  {
   "attachments": {},
   "cell_type": "markdown",
   "metadata": {
    "deletable": false,
    "editable": false,
    "run_control": {
     "frozen": true
    }
   },
   "source": [
    "## d)"
   ]
  },
  {
   "attachments": {},
   "cell_type": "markdown",
   "metadata": {
    "deletable": false,
    "editable": false,
    "run_control": {
     "frozen": true
    }
   },
   "source": [
    "Skriv en funksjon som, vha. løkker og repetisjons-operatoren, skriver ut følgende til skjerm:\n",
    "    \n",
    ">```\n",
    "Z\n",
    "ZZ\n",
    "ZZZ\n",
    "ZZZZ\n",
    "ZZZZZ\n",
    "ZZZZZZ\n",
    "ZZZZZZZ\n",
    "ZZZZZZZZ\n",
    "ZZZZZZZ\n",
    "ZZZZZZ\n",
    "ZZZZZ\n",
    "ZZZZ\n",
    "ZZZ\n",
    "ZZ\n",
    "Z\n",
    "```\n",
    "\n",
    "***Skriv koden din i kodeblokken under:***"
   ]
  },
  {
   "cell_type": "code",
   "execution_count": null,
   "metadata": {},
   "outputs": [],
   "source": []
  },
  {
   "attachments": {},
   "cell_type": "markdown",
   "metadata": {
    "deletable": false,
    "editable": false,
    "heading_collapsed": true,
    "run_control": {
     "frozen": true
    }
   },
   "source": [
    "#### Hint"
   ]
  },
  {
   "attachments": {},
   "cell_type": "markdown",
   "metadata": {
    "deletable": false,
    "editable": false,
    "hidden": true,
    "run_control": {
     "frozen": true
    }
   },
   "source": [
    "Bruk to for-løkker (IKKE nøstede løkker), der den første teller opp, f.o.m. 1 t.o.m. 7, og den andre teller ned, f.o.m. 8 t.o.m. 1.  \n",
    "Se også \"Eksempler med repetisjons-operatoren\" under \"Kort om repetisjons-operatoren og splitting av strenger\"."
   ]
  }
 ],
 "metadata": {
  "kernelspec": {
   "display_name": "Python 3 (ipykernel)",
   "language": "python",
   "name": "python3"
  },
  "language_info": {
   "codemirror_mode": {
    "name": "ipython",
    "version": 3
   },
   "file_extension": ".py",
   "mimetype": "text/x-python",
   "name": "python",
   "nbconvert_exporter": "python",
   "pygments_lexer": "ipython3",
   "version": "3.10.11"
  },
  "toc": {
   "base_numbering": 1,
   "nav_menu": {},
   "number_sections": false,
   "sideBar": true,
   "skip_h1_title": false,
   "title_cell": "Table of Contents",
   "title_sidebar": "Contents",
   "toc_cell": false,
   "toc_position": {},
   "toc_section_display": true,
   "toc_window_display": false
  }
 },
 "nbformat": 4,
 "nbformat_minor": 2
}
