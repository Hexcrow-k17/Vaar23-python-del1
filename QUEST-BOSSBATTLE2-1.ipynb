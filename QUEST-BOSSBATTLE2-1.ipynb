{
 "cells": [
  {
   "attachments": {},
   "cell_type": "markdown",
   "metadata": {},
   "source": [
    "# BOSSBATTLE 2-1\n",
    "![img](boss.png)\n"
   ]
  },
  {
   "attachments": {},
   "cell_type": "markdown",
   "metadata": {
    "deletable": false,
    "editable": false,
    "run_control": {
     "frozen": true
    }
   },
   "source": [
    "# Datamaskinen som tigget epler - Debugging\n",
    "\n",
    "**Læringsmål:**\n",
    "\n",
    "* Feilretting\n",
    "* Betingelser\n",
    "\n",
    "I denne oppgaven får du utdelt en kodesnutt som inneholder feil. Det er både konkrete feil i koden (python-syntaks) og logiske feil (brukeren kan gi input som får programmet til å gi betydningsløse svar). \n",
    "\n",
    "Din oppgave er å rette opp i syntaks-feilene, og håndtere de logiske feilene på en fornuftig måte. \n",
    "\n"
   ]
  },
  {
   "attachments": {},
   "cell_type": "markdown",
   "metadata": {
    "deletable": false,
    "editable": false,
    "run_control": {
     "frozen": true
    }
   },
   "source": [
    "### a)"
   ]
  },
  {
   "attachments": {},
   "cell_type": "markdown",
   "metadata": {
    "deletable": false,
    "editable": false,
    "run_control": {
     "frozen": true
    }
   },
   "source": [
    "Programmet spør brukeren hvor mange epler han har, og hvor mange han er villig til å gi bort. Basert på disse svarene er det tre mulige utfall, som vist under:\n",
    "\n",
    "  \n",
    "```python\n",
    "Dette er et program for å teste din sjenerøsitet.\n",
    "Hvor mange epler har du? 0\n",
    "Æsj, det sier du bare for å slippe å gi noe!\n",
    "```\n",
    "  \n",
    "```python\n",
    "Dette er et program for å teste din sjenerøsitet.\n",
    "Hvor mange epler har du? 5\n",
    "Hvor mange kan du gi til meg? 2\n",
    "Du beholder det meste for deg selv...\n",
    "Du har nå 3 epler igjen.\n",
    "```\n",
    "  \n",
    "```python\n",
    "Dette er et program for å teste din sjenerøsitet.\n",
    "Hvor mange epler har du? 7\n",
    "Hvor mange kan du gi til meg? 5\n",
    "Takk, det var snilt!\n",
    "Du har nå 2 epler igjen. \n",
    "```\n",
    "\n",
    "Koden som skal kjøre programmet er som vist under. **Finn syntaksfeilene og rett opp i dem slik at koden kjører som vist i eksempelteksten.**"
   ]
  },
  {
   "cell_type": "code",
   "execution_count": null,
   "metadata": {},
   "outputs": [],
   "source": [
    "print(\"Dette er et program for å teste din sjenerøsitet.\")\n",
    "har_epler = int(input(\"Hvor mange epler har du? \"))\n",
    "if har_epler = 0:\n",
    "   print(\"Æsj, det sier du bare for å slippe å gi noe!\")\n",
    "else\n",
    "   gir_epler = int(input(\"Hvor mange kan du gi til meg? \"))\n",
    "   if gir_epler < har_epler / 2:\n",
    "   print(\"Du beholder det meste for deg selv...\")\n",
    "       else:\n",
    "       print(\"Takk, det var snilt!\")\n",
    "   print(\"Du har nå\", har_epler - gir_epler, \"epler igjen.\")"
   ]
  },
  {
   "attachments": {},
   "cell_type": "markdown",
   "metadata": {
    "deletable": false,
    "editable": false,
    "run_control": {
     "frozen": true
    }
   },
   "source": [
    "### b)"
   ]
  },
  {
   "attachments": {},
   "cell_type": "markdown",
   "metadata": {
    "deletable": false,
    "editable": false,
    "run_control": {
     "frozen": true
    }
   },
   "source": [
    "Utskriften av siste print-setning vil bli grammatisk feil hvis brukeren har igjen 1 eple, siden det skrives «epler». Utvid programmet slik at det skriver:\n",
    "\n",
    "  \n",
    "```python\n",
    "Du har nå 1 eple igjen.\n",
    "```\n",
    "\n",
    "hvis det ble akkurat ett, ellers epler i flertall som det står nå."
   ]
  },
  {
   "attachments": {},
   "cell_type": "markdown",
   "metadata": {
    "deletable": false,
    "editable": false,
    "run_control": {
     "frozen": true
    }
   },
   "source": [
    "### c)"
   ]
  },
  {
   "attachments": {},
   "cell_type": "markdown",
   "metadata": {
    "deletable": false,
    "editable": false,
    "run_control": {
     "frozen": true
    }
   },
   "source": [
    "Hvis brukeren skriver inn et større tall for hvor mange epler man kan gi bort enn hva man faktisk hadde, kommer siste linje ut med et negativt tall.\n",
    "\n",
    "Utvid programmet ytterligere slik at hvis brukeren f.eks. har 7 epler men vil gi bort 9, avslutter programmet med\n",
    "\n",
    "  \n",
    "```python\n",
    "Du har nå 0 epler igjen. Gi meg de 2 du skylder meg neste gang vi møtes.\n",
    "```"
   ]
  }
 ],
 "metadata": {
  "kernelspec": {
   "display_name": "Python 3 (ipykernel)",
   "language": "python",
   "name": "python3"
  },
  "language_info": {
   "codemirror_mode": {
    "name": "ipython",
    "version": 3
   },
   "file_extension": ".py",
   "mimetype": "text/x-python",
   "name": "python",
   "nbconvert_exporter": "python",
   "pygments_lexer": "ipython3",
   "version": "3.7.3"
  },
  "toc": {
   "base_numbering": 1,
   "nav_menu": {},
   "number_sections": false,
   "sideBar": true,
   "skip_h1_title": false,
   "title_cell": "Table of Contents",
   "title_sidebar": "Contents",
   "toc_cell": false,
   "toc_position": {},
   "toc_section_display": true,
   "toc_window_display": false
  }
 },
 "nbformat": 4,
 "nbformat_minor": 2
}
